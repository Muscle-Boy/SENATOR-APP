{
 "cells": [
  {
   "cell_type": "markdown",
   "id": "42170e4f",
   "metadata": {},
   "source": [
    "## Import Libraries"
   ]
  },
  {
   "cell_type": "code",
   "execution_count": 2,
   "id": "f3ab4348",
   "metadata": {
    "scrolled": true
   },
   "outputs": [],
   "source": [
    "import dash\n",
    "from dash import html, dcc, no_update\n",
    "import dash_bootstrap_components as dbc\n",
    "from dash.dependencies import Input, Output, State\n",
    "from dash_extensions import Lottie\n",
    "from dash import Dash\n",
    "import pandas as pd\n",
    "import base64\n",
    "import numpy as np\n",
    "import io\n",
    "from jupyter_dash import JupyterDash"
   ]
  },
  {
   "cell_type": "markdown",
   "id": "4af54e1c",
   "metadata": {},
   "source": [
    "## Encoding Images"
   ]
  },
  {
   "cell_type": "code",
   "execution_count": 3,
   "id": "0a8f4643",
   "metadata": {
    "scrolled": true
   },
   "outputs": [],
   "source": [
    "# --- PLEASE CHANGE THE IMAGE FILEPATH TO THE LOCATION ON YOUR LOCAL MACHINE ----\n",
    "image_filename1 = r\"C:\\Users\\65844\\OneDrive\\Desktop\\SA_Jupyter\\images\\hugging-face-pngrepo-com.png\" \n",
    "encoded_image1 = base64.b64encode(open(image_filename1, 'rb').read())\n",
    "\n",
    "image_filename2 = r\"C:\\Users\\65844\\OneDrive\\Desktop\\SA_Jupyter\\images\\SA1.png\" # replace with your own image\n",
    "encoded_image2 = base64.b64encode(open(image_filename2, 'rb').read())\n",
    "\n",
    "image_filename3 = r\"C:\\Users\\65844\\OneDrive\\Desktop\\SA_Jupyter\\images\\SA2.png\" # replace with your own image\n",
    "encoded_image3 = base64.b64encode(open(image_filename3, 'rb').read())\n",
    "\n",
    "image_filename4 = r\"C:\\Users\\65844\\OneDrive\\Desktop\\SA_Jupyter\\images\\SA3.png\" # replace with your own image\n",
    "encoded_image4 = base64.b64encode(open(image_filename4, 'rb').read())"
   ]
  },
  {
   "cell_type": "markdown",
   "id": "d417e9e7",
   "metadata": {},
   "source": [
    "## Import our FINE-TUNED Model"
   ]
  },
  {
   "cell_type": "code",
   "execution_count": 4,
   "id": "182ca90d",
   "metadata": {
    "scrolled": true
   },
   "outputs": [
    {
     "name": "stderr",
     "output_type": "stream",
     "text": [
      "C:\\Users\\65844\\OneDrive\\Desktop\\SA_Jupyter\\virtual_environment\\lib\\site-packages\\tqdm\\auto.py:22: TqdmWarning: IProgress not found. Please update jupyter and ipywidgets. See https://ipywidgets.readthedocs.io/en/stable/user_install.html\n",
      "  from .autonotebook import tqdm as notebook_tqdm\n",
      "Downloading: 100%|█████████████████████████████████████████████████████████████████| 2.04k/2.04k [00:00<00:00, 288kB/s]\n"
     ]
    }
   ],
   "source": [
    "from transformers import pipeline\n",
    "\n",
    "classifier = pipeline(model='RANG012/SENATOR')"
   ]
  },
  {
   "cell_type": "markdown",
   "id": "c5655f42",
   "metadata": {},
   "source": [
    "## Design of our App"
   ]
  },
  {
   "cell_type": "code",
   "execution_count": 7,
   "id": "b09e34a6",
   "metadata": {
    "scrolled": true
   },
   "outputs": [],
   "source": [
    "# Define app\n",
    "app = JupyterDash(__name__, external_stylesheets=[dbc.themes.QUARTZ])\n",
    "app.title = \"SENATOR - Sentiment Analysis\"\n",
    "\n",
    "app.layout = dbc.Container([\n",
    "                            dbc.Row([\n",
    "                                     html.H1('SENATOR', className='text-center fs-1 fst-italic fw-bold', style={'color':\"yellow\"})\n",
    "                            ], className='mt-3'),\n",
    "                            dbc.Row([\n",
    "                                html.H1('with', className='text-center fs-3 fw-light')\n",
    "                            ], className='mt-1'),\n",
    "                            dbc.Row([\n",
    "                                     html.A(\n",
    "                                         html.Img(src='data:image/png;base64,{}'.format(encoded_image1.decode()), height=\"150px\", width=\"150px\"),\n",
    "                                         href = 'https://huggingface.co/',\n",
    "                                         target=\"_blank\"\n",
    "                                     )\n",
    "                            ], className='mt-1 text-center'),\n",
    "                            dbc.Row([\n",
    "                                      html.P(\"What is Hugging Face?\", className=\"fs-4 text-center\", style={'text-decoration': 'underline'})      \n",
    "                            ], className=\"mt-5\"),\n",
    "                            dbc.Row([\n",
    "                                     dbc.Col([\n",
    "                                              html.P(\" Hugging Face is a startup in the Natural Language Processing (NLP) domain, offering its library of models for use by some of the A-listers including Apple and Bing.\", className=\"fs-5 text-center\", style={'color': 'lightgrey'})\n",
    "                                     ], width = 7)\n",
    "                            ], justify = 'center', className=' mt-1'),\n",
    "                            dbc.Row([\n",
    "                                      html.Div([\n",
    "                                              html.Span(\"For this demo, we will be using a\", className=\"fs-4\"), \n",
    "                                              html.Span(\" FINE-TUNED\", className=\"fs-4 fw-bold\", style={'color': 'red'}),\n",
    "                                              html.Span(\" DistilBERT model trained on the IMDB dataset\", className=\"fs-4 fw-bold\")   \n",
    "                                      ], className=\"text-center\") \n",
    "                            ], className=\"mt-3\"),\n",
    "                            dbc.Row([\n",
    "                                     dbc.Col([\n",
    "                                              dbc.Row([\n",
    "                                                     html.P('Data Preprocessing & Models:', className='fs-5', style={'text-decoration': 'underline'})  \n",
    "                                              ]),\n",
    "                                              dbc.Row([\n",
    "                                                       html.Img(src='data:image/png;base64,{}'.format(encoded_image2.decode()), height=\"350px\", width=\"200px\")\n",
    "                                              ])\n",
    "                                     ], width = 4),\n",
    "                                     dbc.Col([\n",
    "                                              dbc.Row([\n",
    "                                                     html.P('Defining Training Parameters:', className='fs-5', style={'text-decoration': 'underline'})  \n",
    "                                              ]),\n",
    "                                              dbc.Row([\n",
    "                                                       html.Img(src='data:image/png;base64,{}'.format(encoded_image3.decode()), height=\"350px\", width=\"200px\")\n",
    "                                              ])\n",
    "                                     ], width = 4, className='ms-1'),\n",
    "                                     dbc.Col([\n",
    "                                              dbc.Row([\n",
    "                                                     html.P('Model Training:', className='fs-5', style={'text-decoration': 'underline'})  \n",
    "                                              ]),\n",
    "                                              dbc.Row([\n",
    "                                                       html.Img(src='data:image/png;base64,{}'.format(encoded_image4.decode()), height=\"350px\", width=\"200px\")\n",
    "                                              ])\n",
    "                                     ], width = 3, className='ms-2')\n",
    "                            ], className='mt-4'),\n",
    "                            dbc.Row([\n",
    "                                     dbc.Col([\n",
    "                                              dbc.Row([\n",
    "                                                    dbc.Label(\"Input Text\",  className='fs-3'),\n",
    "                                                    dbc.Textarea(size=\"lg\", id='text-input', placeholder=\"Type Any Text You Like Here\")\n",
    "                                              ]),\n",
    "                                              dbc.Row([\n",
    "                                                       dbc.Col([\n",
    "                                                                dbc.Button(\"Submit\", id=\"submit-button\", color=\"warning\")\n",
    "                                                       ], width=3)\n",
    "                                              ], justify = 'center', className='mt-2')\n",
    "                                     ], width = 6),\n",
    "                                     dbc.Col([\n",
    "                                              dbc.Row([\n",
    "                                                       html.H3('Results:')\n",
    "                                              ], className='text-center'),\n",
    "                                              dbc.Row([], id =\"result-text\", className=\"mt-1 text-center\")\n",
    "                                     ])\n",
    "                            ], className='mt-4'),\n",
    "                    #------------------------------ UPLOAD FILE SECTION -----------------------\n",
    "                            dbc.Row([\n",
    "                                     html.Div([\n",
    "                                             dcc.Upload(\n",
    "                                                  id='upload-file',\n",
    "                                                  children = html.Div([\n",
    "                                                          'Drag and Drop or ',\n",
    "                                                          html.A('Select File', href='#', style={'text-decoration': 'underline', 'color': 'aqua'})\n",
    "                                                      ]),\n",
    "                                                  style={\n",
    "                                                      'width': '100%',\n",
    "                                                      'height': '60px',\n",
    "                                                      'lineHeight': '60px',\n",
    "                                                      'borderWidth': '1px',\n",
    "                                                      'borderStyle': 'dashed',\n",
    "                                                      'borderRadius': '5px',\n",
    "                                                      'textAlign': 'center',\n",
    "                                                      'margin': '10px'\n",
    "                                                    }\n",
    "                                               ),\n",
    "                                                dcc.Download(id=\"download-file\")\n",
    "                                    ])\n",
    "                            ], className='mt-2') \n",
    "])\n",
    "\n",
    "#------------------------ call back ------------------------------------\n",
    "\n",
    "#------------------------------------------------------------\n",
    "def parse_contents(contents, filename):\n",
    "    content_type, content_string = contents.split(',')\n",
    "\n",
    "    decoded = base64.b64decode(content_string)\n",
    "    if 'csv' in filename:\n",
    "      df = pd.read_csv(io.StringIO(decoded.decode('utf-8')))\n",
    "\n",
    "    elif 'xlsx' in filename:\n",
    "      df = pd.read_excel(io.BytesIO(decoded))\n",
    "\n",
    "    elif 'xls' in filename:\n",
    "      df = pd.read_excel(io.BytesIO(decoded))\n",
    "\n",
    "    return df\n",
    "\n",
    "#---------------------------------------------------\n",
    "\n",
    "@app.callback(\n",
    "    Output(\"result-text\", \"children\"),\n",
    "    Input(\"submit-button\", \"n_clicks\"),\n",
    "    State(\"text-input\", \"value\"),\n",
    "    prevent_initial_call=True\n",
    ")\n",
    "def submission(n, text):\n",
    "  if  (n == 0) and (len(text) == 0) :\n",
    "    return ''\n",
    "\n",
    "  else:\n",
    "    result = classifier([text])\n",
    "\n",
    "    if result[0]['label'] == 'LABEL_0':\n",
    "      sentiment = \"Negative\"\n",
    "      color = 'red'\n",
    "    else:\n",
    "      sentiment = \"Positive\"\n",
    "      color = 'yellow'\n",
    "\n",
    "    return html.Div([\n",
    "                     html.Div([\n",
    "                            html.Span('Sentiment: ', className='fs-3'),\n",
    "                            html.Span(sentiment, className='fw-bold fs-2', style={'color':color, 'text-decoration': 'underline'})\n",
    "                     ]),\n",
    "                     html.Div([\n",
    "                            html.Span('Confidence: ', className='fs-3'),\n",
    "                            html.Span(str(round(result[0]['score'], 2)), className='fw-bold fs-2', style={'text-decoration': 'underline'})\n",
    "                     ], className='mt-3')\n",
    "            ])\n",
    "    \n",
    "\n",
    "@app.callback(\n",
    "    Output('download-file', 'data'),\n",
    "    Input('upload-file', 'contents'),\n",
    "    State('upload-file', 'filename'),\n",
    "    #State('upload-file', 'last_modified')\n",
    "    prevent_initial_call=True\n",
    ")\n",
    "\n",
    "def file_upload(content, filename):\n",
    "  if content is not None:\n",
    "    dataframe = parse_contents(content, filename)\n",
    "    number_of_rows = dataframe.shape[0]  # Gives number of rows\n",
    "    x = dataframe.columns   # returns a string of the name of the 1st column\n",
    "    column = list(x)[0]\n",
    "    predictions = []\n",
    "    scores = []\n",
    "\n",
    "    for i in range(number_of_rows):\n",
    "      new_df = dataframe.iloc[i]\n",
    "      sequence = new_df[column]\n",
    "      results = classifier([sequence])\n",
    "\n",
    "      if results[0]['label'] == 'LABEL_0':\n",
    "        sent = \"Negative\"\n",
    "      else:\n",
    "        sent = \"Positive\"\n",
    "      score = str(round(results[0]['score'], 2))\n",
    "      predictions.append(sent)\n",
    "      scores.append(score)\n",
    "\n",
    "    dataframe['Sentiment'] = predictions\n",
    "    dataframe['Confidence'] = scores\n",
    "    return dcc.send_data_frame(dataframe.to_excel, \"SENATOR_Ouput.xlsx\", index=False, sheet_name=\"Updated_Sheet\")\n",
    "\n",
    "\n",
    "#-------------------------------\n"
   ]
  },
  {
   "cell_type": "code",
   "execution_count": 8,
   "id": "16721924",
   "metadata": {
    "scrolled": true
   },
   "outputs": [
    {
     "name": "stdout",
     "output_type": "stream",
     "text": [
      "Dash app running on http://127.0.0.1:8050/\n"
     ]
    }
   ],
   "source": [
    "app.run_server(mode='external')"
   ]
  },
  {
   "cell_type": "code",
   "execution_count": null,
   "id": "27aedd85",
   "metadata": {},
   "outputs": [],
   "source": []
  }
 ],
 "metadata": {
  "kernelspec": {
   "display_name": "SA-VENV",
   "language": "python",
   "name": "sa-venv"
  },
  "language_info": {
   "codemirror_mode": {
    "name": "ipython",
    "version": 3
   },
   "file_extension": ".py",
   "mimetype": "text/x-python",
   "name": "python",
   "nbconvert_exporter": "python",
   "pygments_lexer": "ipython3",
   "version": "3.10.4"
  }
 },
 "nbformat": 4,
 "nbformat_minor": 5
}
